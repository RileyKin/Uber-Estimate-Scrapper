{
 "cells": [
  {
   "cell_type": "code",
   "execution_count": null,
   "metadata": {
    "collapsed": false
   },
   "outputs": [],
   "source": [
    "import numpy as np\n",
    "import pandas as pd\n",
    "import matplotlib.pyplot as plt\n",
    "import seaborn as sns\n",
    "import datetime\n",
    "sns.set_style('whitegrid')\n",
    "%matplotlib inline\n",
    "\n",
    "df = pd.read_csv('attempt_4 - Copy.csv',\n",
    "                 header=None,names = [\"datetime\", \"sf_to_oak\", \"oak_to_sf\"])"
   ]
  },
  {
   "cell_type": "code",
   "execution_count": null,
   "metadata": {
    "collapsed": false
   },
   "outputs": [],
   "source": [
    "df.info()"
   ]
  },
  {
   "cell_type": "code",
   "execution_count": null,
   "metadata": {
    "collapsed": false
   },
   "outputs": [],
   "source": [
    "df.head()"
   ]
  },
  {
   "cell_type": "code",
   "execution_count": null,
   "metadata": {
    "collapsed": false
   },
   "outputs": [],
   "source": [
    "#convert datetime from string to datetime object\n",
    "df['datetime'] = pd.to_datetime(df['datetime'])\n",
    "\n",
    "\n",
    "df['sf_to_oak'] = df['sf_to_oak'].replace( '[\\$]','', regex=True ).astype(float)\n",
    "df['oak_to_sf'] = df['oak_to_sf'].replace( '[\\$]','', regex=True ).astype(float)\n",
    "\n",
    "df.head()"
   ]
  },
  {
   "cell_type": "code",
   "execution_count": null,
   "metadata": {
    "collapsed": false
   },
   "outputs": [],
   "source": [
    "df['time'] = pd.Series([val.time() for val in df['datetime']])\n",
    "df_date_sort = df\n",
    "df_date_sort.set_index('datetime',inplace=True)\n",
    "df.head()"
   ]
  },
  {
   "cell_type": "code",
   "execution_count": null,
   "metadata": {
    "collapsed": false
   },
   "outputs": [],
   "source": [
    "sorted_df = df.sort_values(by='time')  \n",
    "sorted_df.set_index('time',inplace=True)\n",
    "sorted_df.head()\n"
   ]
  },
  {
   "cell_type": "code",
   "execution_count": null,
   "metadata": {
    "collapsed": false
   },
   "outputs": [],
   "source": [
    "sorted_df = df.sort_values(by='time')  \n",
    "sorted_df.set_index('time',inplace=True)\n",
    "sorted_df.head()\n",
    " "
   ]
  },
  {
   "cell_type": "code",
   "execution_count": null,
   "metadata": {
    "collapsed": false
   },
   "outputs": [],
   "source": [
    "print df_date_sort['sf_to_oak'].min()\n",
    "print df_date_sort['sf_to_oak'].idxmin()\n",
    "print \"\"\n",
    "print df_date_sort['oak_to_sf'].min()\n",
    "print df_date_sort['oak_to_sf'].idxmin()"
   ]
  },
  {
   "cell_type": "code",
   "execution_count": null,
   "metadata": {
    "collapsed": false
   },
   "outputs": [],
   "source": [
    "sorted_df['sf_to_oak'].plot(figsize=(12,4),label='sf_to_oak',alpha=.5)\n",
    "\n",
    "ax = pd.Series.rolling(sorted_df['sf_to_oak']\n",
    "                  ,window=30).mean().plot(figsize=(12,4),label='sf_to_oak Rolling',color='black')\n",
    "\n",
    "ax.set_ylim(10, 40)\n",
    "ax.set_ylabel('Price')\n",
    "ax.set_xlabel('Hour')\n",
    "\n",
    "custom_tick_locs = range(24)\n",
    "custom_tick_locs2 = []\n",
    "for hour in custom_tick_locs:\n",
    "    custom_tick_locs2.append(datetime.time(hour)) \n",
    "custom_tick_labels = map(lambda x: x.strftime('%H'), custom_tick_locs2)\n",
    "plt.xticks(custom_tick_locs2, custom_tick_labels)\n",
    "\n",
    "plt.legend(bbox_to_anchor=(1.05, 1), loc=2, borderaxespad=0.)"
   ]
  },
  {
   "cell_type": "code",
   "execution_count": null,
   "metadata": {
    "collapsed": false
   },
   "outputs": [],
   "source": [
    "sorted_df['oak_to_sf'].plot(figsize=(12,4),label='oak_to_sf',alpha=.5,color='green',lw=1)\n",
    "\n",
    "ax = pd.Series.rolling(sorted_df['oak_to_sf']\n",
    "                  ,window=30).mean().plot(figsize=(12,4),label='oak_to_sf Rolling',color='black')\n",
    "\n",
    "ax.set_ylim(10, 40)\n",
    "ax.set_ylabel('Price')\n",
    "ax.set_xlabel('Hour')\n",
    "\n",
    "\n",
    "custom_tick_locs = range(24)\n",
    "custom_tick_locs2 = []\n",
    "for hour in custom_tick_locs:\n",
    "    custom_tick_locs2.append(datetime.time(hour)) \n",
    "custom_tick_labels = map(lambda x: x.strftime('%H'), custom_tick_locs2)\n",
    "plt.xticks(custom_tick_locs2, custom_tick_labels)\n",
    "\n",
    "plt.legend(bbox_to_anchor=(1.05, 1), loc=2, borderaxespad=0.)"
   ]
  },
  {
   "cell_type": "code",
   "execution_count": null,
   "metadata": {
    "collapsed": false
   },
   "outputs": [],
   "source": [
    "sorted_df['sf_to_oak'].plot(figsize=(12,4),label='sf_to_oak',alpha=.5)\n",
    "ax = pd.Series.rolling(sorted_df['sf_to_oak']\n",
    "                  ,window=30).mean().plot(figsize=(12,4),label='sf_to_oak Rolling',color='black')\n",
    "\n",
    "sorted_df['oak_to_sf'].plot(figsize=(12,4),label='oak_to_sf',alpha=.5,color='green',)\n",
    "ax = pd.Series.rolling(sorted_df['oak_to_sf']\n",
    "                  ,window=30).mean().plot(figsize=(12,4),label='oak_to_sf Rolling',color='black')\n",
    "\n",
    "ax.set_ylim(10, 40)\n",
    "ax.set_ylabel('Price')\n",
    "ax.set_xlabel('Hour')\n",
    "\n",
    "custom_tick_locs = range(24)\n",
    "custom_tick_locs2 = []\n",
    "for hour in custom_tick_locs:\n",
    "    custom_tick_locs2.append(datetime.time(hour)) \n",
    "custom_tick_labels = map(lambda x: x.strftime('%H'), custom_tick_locs2)\n",
    "plt.xticks(custom_tick_locs2, custom_tick_labels)\n",
    "\n",
    "plt.legend(bbox_to_anchor=(1.05, 1), loc=2, borderaxespad=0.)"
   ]
  },
  {
   "cell_type": "code",
   "execution_count": null,
   "metadata": {
    "collapsed": true
   },
   "outputs": [],
   "source": []
  }
 ],
 "metadata": {
  "anaconda-cloud": {},
  "kernelspec": {
   "display_name": "Python [default]",
   "language": "python",
   "name": "python2"
  },
  "language_info": {
   "codemirror_mode": {
    "name": "ipython",
    "version": 2
   },
   "file_extension": ".py",
   "mimetype": "text/x-python",
   "name": "python",
   "nbconvert_exporter": "python",
   "pygments_lexer": "ipython2",
   "version": "2.7.12"
  }
 },
 "nbformat": 4,
 "nbformat_minor": 1
}
